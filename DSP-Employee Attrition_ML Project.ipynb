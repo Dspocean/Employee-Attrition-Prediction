{
 "cells": [
  {
   "cell_type": "markdown",
   "metadata": {},
   "source": [
    "### Genpact Data Science Prodegree Project Using Python & Machine Learning                                               "
   ]
  },
  {
   "cell_type": "markdown",
   "metadata": {},
   "source": [
    "### Submitted By: Sagar Gaikwad | Batch: DSP 40\n"
   ]
  },
  {
   "cell_type": "markdown",
   "metadata": {},
   "source": [
    "### Objective of the study:\n",
    "This Project is based on IBM dataset consisting of employee attrition & their retention.This analysis can discover if any particular factors or patterns that lead to attrition."
   ]
  },
  {
   "cell_type": "code",
   "execution_count": 1,
   "metadata": {},
   "outputs": [],
   "source": [
    "#Importing the packagese\n",
    "#Data processing packages\n",
    "import numpy as np \n",
    "import pandas as pd \n",
    "\n",
    "#Visualization packages\n",
    "import matplotlib.pyplot as plt \n",
    "import seaborn as sns \n",
    "\n",
    "#Machine Learning packages\n",
    "from sklearn.svm import SVC\n",
    "from sklearn.neighbors import KNeighborsClassifier\n",
    "from sklearn.linear_model import SGDClassifier, LogisticRegression\n",
    "from sklearn.tree import DecisionTreeClassifier, ExtraTreeClassifier\n",
    "from sklearn.ensemble import RandomForestClassifier, AdaBoostClassifier, GradientBoostingClassifier\n",
    "from sklearn.metrics import accuracy_score\n",
    "from sklearn.preprocessing import LabelEncoder\n",
    "from sklearn.model_selection import train_test_split\n",
    "from sklearn.preprocessing import StandardScaler\n",
    "from sklearn.metrics import confusion_matrix\n",
    "\n",
    "#Suppress warnings\n",
    "import warnings\n",
    "warnings.filterwarnings('ignore')"
   ]
  },
  {
   "cell_type": "code",
   "execution_count": 2,
   "metadata": {},
   "outputs": [
    {
     "data": {
      "text/html": [
       "<div>\n",
       "<style scoped>\n",
       "    .dataframe tbody tr th:only-of-type {\n",
       "        vertical-align: middle;\n",
       "    }\n",
       "\n",
       "    .dataframe tbody tr th {\n",
       "        vertical-align: top;\n",
       "    }\n",
       "\n",
       "    .dataframe thead th {\n",
       "        text-align: right;\n",
       "    }\n",
       "</style>\n",
       "<table border=\"1\" class=\"dataframe\">\n",
       "  <thead>\n",
       "    <tr style=\"text-align: right;\">\n",
       "      <th></th>\n",
       "      <th>Age</th>\n",
       "      <th>Attrition</th>\n",
       "      <th>BusinessTravel</th>\n",
       "      <th>DailyRate</th>\n",
       "      <th>Department</th>\n",
       "      <th>DistanceFromHome</th>\n",
       "      <th>Education</th>\n",
       "      <th>EducationField</th>\n",
       "      <th>EmployeeCount</th>\n",
       "      <th>EmployeeNumber</th>\n",
       "      <th>...</th>\n",
       "      <th>RelationshipSatisfaction</th>\n",
       "      <th>StandardHours</th>\n",
       "      <th>StockOptionLevel</th>\n",
       "      <th>TotalWorkingYears</th>\n",
       "      <th>TrainingTimesLastYear</th>\n",
       "      <th>WorkLifeBalance</th>\n",
       "      <th>YearsAtCompany</th>\n",
       "      <th>YearsInCurrentRole</th>\n",
       "      <th>YearsSinceLastPromotion</th>\n",
       "      <th>YearsWithCurrManager</th>\n",
       "    </tr>\n",
       "  </thead>\n",
       "  <tbody>\n",
       "    <tr>\n",
       "      <th>0</th>\n",
       "      <td>41</td>\n",
       "      <td>Yes</td>\n",
       "      <td>Travel_Rarely</td>\n",
       "      <td>1102</td>\n",
       "      <td>Sales</td>\n",
       "      <td>1</td>\n",
       "      <td>2</td>\n",
       "      <td>Life Sciences</td>\n",
       "      <td>1</td>\n",
       "      <td>1</td>\n",
       "      <td>...</td>\n",
       "      <td>1</td>\n",
       "      <td>80</td>\n",
       "      <td>0</td>\n",
       "      <td>8</td>\n",
       "      <td>0</td>\n",
       "      <td>1</td>\n",
       "      <td>6</td>\n",
       "      <td>4</td>\n",
       "      <td>0</td>\n",
       "      <td>5</td>\n",
       "    </tr>\n",
       "    <tr>\n",
       "      <th>1</th>\n",
       "      <td>49</td>\n",
       "      <td>No</td>\n",
       "      <td>Travel_Frequently</td>\n",
       "      <td>279</td>\n",
       "      <td>Research &amp; Development</td>\n",
       "      <td>8</td>\n",
       "      <td>1</td>\n",
       "      <td>Life Sciences</td>\n",
       "      <td>1</td>\n",
       "      <td>2</td>\n",
       "      <td>...</td>\n",
       "      <td>4</td>\n",
       "      <td>80</td>\n",
       "      <td>1</td>\n",
       "      <td>10</td>\n",
       "      <td>3</td>\n",
       "      <td>3</td>\n",
       "      <td>10</td>\n",
       "      <td>7</td>\n",
       "      <td>1</td>\n",
       "      <td>7</td>\n",
       "    </tr>\n",
       "    <tr>\n",
       "      <th>2</th>\n",
       "      <td>37</td>\n",
       "      <td>Yes</td>\n",
       "      <td>Travel_Rarely</td>\n",
       "      <td>1373</td>\n",
       "      <td>Research &amp; Development</td>\n",
       "      <td>2</td>\n",
       "      <td>2</td>\n",
       "      <td>Other</td>\n",
       "      <td>1</td>\n",
       "      <td>4</td>\n",
       "      <td>...</td>\n",
       "      <td>2</td>\n",
       "      <td>80</td>\n",
       "      <td>0</td>\n",
       "      <td>7</td>\n",
       "      <td>3</td>\n",
       "      <td>3</td>\n",
       "      <td>0</td>\n",
       "      <td>0</td>\n",
       "      <td>0</td>\n",
       "      <td>0</td>\n",
       "    </tr>\n",
       "    <tr>\n",
       "      <th>3</th>\n",
       "      <td>33</td>\n",
       "      <td>No</td>\n",
       "      <td>Travel_Frequently</td>\n",
       "      <td>1392</td>\n",
       "      <td>Research &amp; Development</td>\n",
       "      <td>3</td>\n",
       "      <td>4</td>\n",
       "      <td>Life Sciences</td>\n",
       "      <td>1</td>\n",
       "      <td>5</td>\n",
       "      <td>...</td>\n",
       "      <td>3</td>\n",
       "      <td>80</td>\n",
       "      <td>0</td>\n",
       "      <td>8</td>\n",
       "      <td>3</td>\n",
       "      <td>3</td>\n",
       "      <td>8</td>\n",
       "      <td>7</td>\n",
       "      <td>3</td>\n",
       "      <td>0</td>\n",
       "    </tr>\n",
       "    <tr>\n",
       "      <th>4</th>\n",
       "      <td>27</td>\n",
       "      <td>No</td>\n",
       "      <td>Travel_Rarely</td>\n",
       "      <td>591</td>\n",
       "      <td>Research &amp; Development</td>\n",
       "      <td>2</td>\n",
       "      <td>1</td>\n",
       "      <td>Medical</td>\n",
       "      <td>1</td>\n",
       "      <td>7</td>\n",
       "      <td>...</td>\n",
       "      <td>4</td>\n",
       "      <td>80</td>\n",
       "      <td>1</td>\n",
       "      <td>6</td>\n",
       "      <td>3</td>\n",
       "      <td>3</td>\n",
       "      <td>2</td>\n",
       "      <td>2</td>\n",
       "      <td>2</td>\n",
       "      <td>2</td>\n",
       "    </tr>\n",
       "  </tbody>\n",
       "</table>\n",
       "<p>5 rows × 35 columns</p>\n",
       "</div>"
      ],
      "text/plain": [
       "   Age Attrition     BusinessTravel  DailyRate              Department  \\\n",
       "0   41       Yes      Travel_Rarely       1102                   Sales   \n",
       "1   49        No  Travel_Frequently        279  Research & Development   \n",
       "2   37       Yes      Travel_Rarely       1373  Research & Development   \n",
       "3   33        No  Travel_Frequently       1392  Research & Development   \n",
       "4   27        No      Travel_Rarely        591  Research & Development   \n",
       "\n",
       "   DistanceFromHome  Education EducationField  EmployeeCount  EmployeeNumber  \\\n",
       "0                 1          2  Life Sciences              1               1   \n",
       "1                 8          1  Life Sciences              1               2   \n",
       "2                 2          2          Other              1               4   \n",
       "3                 3          4  Life Sciences              1               5   \n",
       "4                 2          1        Medical              1               7   \n",
       "\n",
       "   ...  RelationshipSatisfaction StandardHours  StockOptionLevel  \\\n",
       "0  ...                         1            80                 0   \n",
       "1  ...                         4            80                 1   \n",
       "2  ...                         2            80                 0   \n",
       "3  ...                         3            80                 0   \n",
       "4  ...                         4            80                 1   \n",
       "\n",
       "   TotalWorkingYears  TrainingTimesLastYear WorkLifeBalance  YearsAtCompany  \\\n",
       "0                  8                      0               1               6   \n",
       "1                 10                      3               3              10   \n",
       "2                  7                      3               3               0   \n",
       "3                  8                      3               3               8   \n",
       "4                  6                      3               3               2   \n",
       "\n",
       "  YearsInCurrentRole  YearsSinceLastPromotion  YearsWithCurrManager  \n",
       "0                  4                        0                     5  \n",
       "1                  7                        1                     7  \n",
       "2                  0                        0                     0  \n",
       "3                  7                        3                     0  \n",
       "4                  2                        2                     2  \n",
       "\n",
       "[5 rows x 35 columns]"
      ]
     },
     "execution_count": 2,
     "metadata": {},
     "output_type": "execute_result"
    }
   ],
   "source": [
    "#Import Employee Attrition data\n",
    "df=pd.read_csv(r'attrition.csv')\n",
    "df.head()"
   ]
  },
  {
   "cell_type": "markdown",
   "metadata": {},
   "source": [
    "#### Using EDA we can get data set’s shape, data types of each variables.\n"
   ]
  },
  {
   "cell_type": "code",
   "execution_count": 3,
   "metadata": {},
   "outputs": [
    {
     "name": "stdout",
     "output_type": "stream",
     "text": [
      "(1470, 35)\n",
      "<class 'pandas.core.frame.DataFrame'>\n",
      "RangeIndex: 1470 entries, 0 to 1469\n",
      "Data columns (total 35 columns):\n",
      " #   Column                    Non-Null Count  Dtype \n",
      "---  ------                    --------------  ----- \n",
      " 0   Age                       1470 non-null   int64 \n",
      " 1   Attrition                 1470 non-null   object\n",
      " 2   BusinessTravel            1470 non-null   object\n",
      " 3   DailyRate                 1470 non-null   int64 \n",
      " 4   Department                1470 non-null   object\n",
      " 5   DistanceFromHome          1470 non-null   int64 \n",
      " 6   Education                 1470 non-null   int64 \n",
      " 7   EducationField            1470 non-null   object\n",
      " 8   EmployeeCount             1470 non-null   int64 \n",
      " 9   EmployeeNumber            1470 non-null   int64 \n",
      " 10  EnvironmentSatisfaction   1470 non-null   int64 \n",
      " 11  Gender                    1470 non-null   object\n",
      " 12  HourlyRate                1470 non-null   int64 \n",
      " 13  JobInvolvement            1470 non-null   int64 \n",
      " 14  JobLevel                  1470 non-null   int64 \n",
      " 15  JobRole                   1470 non-null   object\n",
      " 16  JobSatisfaction           1470 non-null   int64 \n",
      " 17  MaritalStatus             1470 non-null   object\n",
      " 18  MonthlyIncome             1470 non-null   int64 \n",
      " 19  MonthlyRate               1470 non-null   int64 \n",
      " 20  NumCompaniesWorked        1470 non-null   int64 \n",
      " 21  Over18                    1470 non-null   object\n",
      " 22  OverTime                  1470 non-null   object\n",
      " 23  PercentSalaryHike         1470 non-null   int64 \n",
      " 24  PerformanceRating         1470 non-null   int64 \n",
      " 25  RelationshipSatisfaction  1470 non-null   int64 \n",
      " 26  StandardHours             1470 non-null   int64 \n",
      " 27  StockOptionLevel          1470 non-null   int64 \n",
      " 28  TotalWorkingYears         1470 non-null   int64 \n",
      " 29  TrainingTimesLastYear     1470 non-null   int64 \n",
      " 30  WorkLifeBalance           1470 non-null   int64 \n",
      " 31  YearsAtCompany            1470 non-null   int64 \n",
      " 32  YearsInCurrentRole        1470 non-null   int64 \n",
      " 33  YearsSinceLastPromotion   1470 non-null   int64 \n",
      " 34  YearsWithCurrManager      1470 non-null   int64 \n",
      "dtypes: int64(26), object(9)\n",
      "memory usage: 402.1+ KB\n",
      "None\n",
      "                Age Attrition BusinessTravel    DailyRate  \\\n",
      "count   1470.000000      1470           1470  1470.000000   \n",
      "unique          NaN         2              3          NaN   \n",
      "top             NaN        No  Travel_Rarely          NaN   \n",
      "freq            NaN      1233           1043          NaN   \n",
      "mean      36.923810       NaN            NaN   802.485714   \n",
      "std        9.135373       NaN            NaN   403.509100   \n",
      "min       18.000000       NaN            NaN   102.000000   \n",
      "25%       30.000000       NaN            NaN   465.000000   \n",
      "50%       36.000000       NaN            NaN   802.000000   \n",
      "75%       43.000000       NaN            NaN  1157.000000   \n",
      "max       60.000000       NaN            NaN  1499.000000   \n",
      "\n",
      "                    Department  DistanceFromHome    Education EducationField  \\\n",
      "count                     1470       1470.000000  1470.000000           1470   \n",
      "unique                       3               NaN          NaN              6   \n",
      "top     Research & Development               NaN          NaN  Life Sciences   \n",
      "freq                       961               NaN          NaN            606   \n",
      "mean                       NaN          9.192517     2.912925            NaN   \n",
      "std                        NaN          8.106864     1.024165            NaN   \n",
      "min                        NaN          1.000000     1.000000            NaN   \n",
      "25%                        NaN          2.000000     2.000000            NaN   \n",
      "50%                        NaN          7.000000     3.000000            NaN   \n",
      "75%                        NaN         14.000000     4.000000            NaN   \n",
      "max                        NaN         29.000000     5.000000            NaN   \n",
      "\n",
      "        EmployeeCount  EmployeeNumber  ...  RelationshipSatisfaction  \\\n",
      "count          1470.0     1470.000000  ...               1470.000000   \n",
      "unique            NaN             NaN  ...                       NaN   \n",
      "top               NaN             NaN  ...                       NaN   \n",
      "freq              NaN             NaN  ...                       NaN   \n",
      "mean              1.0     1024.865306  ...                  2.712245   \n",
      "std               0.0      602.024335  ...                  1.081209   \n",
      "min               1.0        1.000000  ...                  1.000000   \n",
      "25%               1.0      491.250000  ...                  2.000000   \n",
      "50%               1.0     1020.500000  ...                  3.000000   \n",
      "75%               1.0     1555.750000  ...                  4.000000   \n",
      "max               1.0     2068.000000  ...                  4.000000   \n",
      "\n",
      "       StandardHours  StockOptionLevel  TotalWorkingYears  \\\n",
      "count         1470.0       1470.000000        1470.000000   \n",
      "unique           NaN               NaN                NaN   \n",
      "top              NaN               NaN                NaN   \n",
      "freq             NaN               NaN                NaN   \n",
      "mean            80.0          0.793878          11.279592   \n",
      "std              0.0          0.852077           7.780782   \n",
      "min             80.0          0.000000           0.000000   \n",
      "25%             80.0          0.000000           6.000000   \n",
      "50%             80.0          1.000000          10.000000   \n",
      "75%             80.0          1.000000          15.000000   \n",
      "max             80.0          3.000000          40.000000   \n",
      "\n",
      "        TrainingTimesLastYear WorkLifeBalance  YearsAtCompany  \\\n",
      "count             1470.000000     1470.000000     1470.000000   \n",
      "unique                    NaN             NaN             NaN   \n",
      "top                       NaN             NaN             NaN   \n",
      "freq                      NaN             NaN             NaN   \n",
      "mean                 2.799320        2.761224        7.008163   \n",
      "std                  1.289271        0.706476        6.126525   \n",
      "min                  0.000000        1.000000        0.000000   \n",
      "25%                  2.000000        2.000000        3.000000   \n",
      "50%                  3.000000        3.000000        5.000000   \n",
      "75%                  3.000000        3.000000        9.000000   \n",
      "max                  6.000000        4.000000       40.000000   \n",
      "\n",
      "       YearsInCurrentRole  YearsSinceLastPromotion  YearsWithCurrManager  \n",
      "count         1470.000000              1470.000000           1470.000000  \n",
      "unique                NaN                      NaN                   NaN  \n",
      "top                   NaN                      NaN                   NaN  \n",
      "freq                  NaN                      NaN                   NaN  \n",
      "mean             4.229252                 2.187755              4.123129  \n",
      "std              3.623137                 3.222430              3.568136  \n",
      "min              0.000000                 0.000000              0.000000  \n",
      "25%              2.000000                 0.000000              2.000000  \n",
      "50%              3.000000                 1.000000              3.000000  \n",
      "75%              7.000000                 3.000000              7.000000  \n",
      "max             18.000000                15.000000             17.000000  \n",
      "\n",
      "[11 rows x 35 columns]\n"
     ]
    }
   ],
   "source": [
    "#Exploratory Data Analysis\n",
    "print (df.shape)\n",
    "print (df.info())\n",
    "print (df.describe(include=\"all\"))"
   ]
  },
  {
   "cell_type": "markdown",
   "metadata": {},
   "source": [
    "#### To check unique values present in the data set for each variables and identifying ,any impure value is present   or not in the data set.\n"
   ]
  },
  {
   "cell_type": "code",
   "execution_count": 4,
   "metadata": {},
   "outputs": [
    {
     "name": "stdout",
     "output_type": "stream",
     "text": [
      "{'Age': array([41, 49, 37, 33, 27, 32, 59, 30, 38, 36, 35, 29, 31, 34, 28, 22, 53,\n",
      "       24, 21, 42, 44, 46, 39, 43, 50, 26, 48, 55, 45, 56, 23, 51, 40, 54,\n",
      "       58, 20, 25, 19, 57, 52, 47, 18, 60], dtype=int64)}\n",
      "{'Attrition': array(['Yes', 'No'], dtype=object)}\n",
      "{'BusinessTravel': array(['Travel_Rarely', 'Travel_Frequently', 'Non-Travel'], dtype=object)}\n",
      "{'DailyRate': array([1102,  279, 1373, 1392,  591, 1005, 1324, 1358,  216, 1299,  809,\n",
      "        153,  670, 1346,  103, 1389,  334, 1123, 1219,  371,  673, 1218,\n",
      "        419,  391,  699, 1282, 1125,  691,  477,  705,  924, 1459,  125,\n",
      "        895,  813, 1273,  869,  890,  852, 1141,  464, 1240, 1357,  994,\n",
      "        721, 1360, 1065,  408, 1211, 1229,  626, 1434, 1488, 1097, 1443,\n",
      "        515,  853, 1142,  655, 1115,  427,  653,  989, 1435, 1223,  836,\n",
      "       1195, 1339,  664,  318, 1225, 1328, 1082,  548,  132,  746,  776,\n",
      "        193,  397,  945, 1214,  111,  573, 1153, 1400,  541,  432,  288,\n",
      "        669,  530,  632, 1334,  638, 1093, 1217, 1353,  120,  682,  489,\n",
      "        807,  827,  871,  665, 1040, 1420,  240, 1280,  534, 1456,  658,\n",
      "        142, 1127, 1031, 1189, 1354, 1467,  922,  394, 1312,  750,  441,\n",
      "        684,  249,  841,  147,  528,  594,  470,  957,  542,  802, 1355,\n",
      "       1150, 1329,  959, 1033, 1316,  364,  438,  689,  201, 1427,  857,\n",
      "        933, 1181, 1395,  662, 1436,  194,  967, 1496, 1169, 1145,  630,\n",
      "        303, 1256,  440, 1450, 1452,  465,  702, 1157,  602, 1480, 1268,\n",
      "        713,  134,  526, 1380,  140,  629, 1356,  328, 1084,  931,  692,\n",
      "       1069,  313,  894,  556, 1344,  290,  138,  926, 1261,  472, 1002,\n",
      "        878,  905, 1180,  121, 1136,  635, 1151,  644, 1045,  829, 1242,\n",
      "       1469,  896,  992, 1052, 1147, 1396,  663,  119,  979,  319, 1413,\n",
      "        944, 1323,  532,  818,  854, 1034,  771, 1401, 1431,  976, 1411,\n",
      "       1300,  252, 1327,  832, 1017, 1199,  504,  505,  916, 1247,  685,\n",
      "        269, 1416,  833,  307, 1311,  128,  488,  529, 1210, 1463,  675,\n",
      "       1385, 1403,  452,  666, 1158,  228,  996,  728, 1315,  322, 1479,\n",
      "        797, 1070,  442,  496, 1372,  920,  688, 1449, 1117,  636,  506,\n",
      "        444,  950,  889,  555,  230, 1232,  566, 1302,  812, 1476,  218,\n",
      "       1132, 1105,  906,  849,  390,  106, 1249,  192,  553,  117,  185,\n",
      "       1091,  723, 1220,  588, 1377, 1018, 1275,  798,  672, 1162,  508,\n",
      "       1482,  559,  210,  928, 1001,  549, 1124,  738,  570, 1130, 1192,\n",
      "        343,  144, 1296, 1309,  483,  810,  544, 1062, 1319,  641, 1332,\n",
      "        756,  845,  593, 1171,  350,  921, 1144,  143, 1046,  575,  156,\n",
      "       1283,  755,  304, 1178,  329, 1362, 1371,  202,  253,  164, 1107,\n",
      "        759, 1305,  982,  821, 1381,  480, 1473,  891, 1063,  645, 1490,\n",
      "        317,  422, 1485, 1368, 1448,  296, 1398, 1349,  986, 1099, 1116,\n",
      "       1499,  983, 1009, 1303, 1274, 1277,  587,  413, 1276,  988, 1474,\n",
      "        163,  267,  619,  302,  443,  828,  561,  426,  232, 1306, 1094,\n",
      "        509,  775,  195,  258,  471,  799,  956,  535, 1495,  446, 1245,\n",
      "        703,  823, 1246,  622, 1287,  448,  254, 1365,  538,  525,  558,\n",
      "        782,  362, 1236, 1112,  204, 1343,  604, 1216,  646,  160,  238,\n",
      "       1397,  306,  991,  482, 1176,  913, 1076,  727,  885,  243,  806,\n",
      "        817, 1410, 1207, 1442,  693,  929,  562,  608,  580,  970, 1179,\n",
      "        294,  314,  316,  654,  168,  381,  217,  501,  650,  141,  804,\n",
      "        975, 1090,  346,  430,  268,  167,  621,  527,  883,  954,  310,\n",
      "        719,  725,  715,  657, 1146,  182,  376,  571,  384,  791, 1111,\n",
      "       1243, 1092, 1325,  805,  213,  118,  676, 1252,  286, 1258,  932,\n",
      "       1041,  859,  720,  946, 1184,  436,  589,  760,  887, 1318,  625,\n",
      "        180,  586, 1012,  661,  930,  342, 1230, 1271, 1278,  607,  130,\n",
      "        300,  583, 1418, 1269,  379,  395, 1265, 1222,  341,  868, 1231,\n",
      "        102,  881, 1383, 1075,  374, 1086,  781,  177,  500, 1425, 1454,\n",
      "        617, 1085,  995, 1122,  618,  546,  462, 1198, 1272,  154, 1137,\n",
      "       1188,  188, 1333,  867,  263,  938,  129,  616,  498, 1404, 1053,\n",
      "        289, 1376,  231,  152,  882,  903, 1379,  335,  722,  461,  974,\n",
      "       1126,  840, 1134,  248,  955,  939, 1391, 1206,  287, 1441,  109,\n",
      "       1066,  277,  466, 1055,  265,  135,  247, 1035,  266,  145, 1038,\n",
      "       1234, 1109, 1089,  788,  124,  660, 1186, 1464,  796,  415,  769,\n",
      "       1003, 1366,  330, 1492, 1204,  309, 1330,  469,  697, 1262, 1050,\n",
      "        770,  406,  203, 1308,  984,  439,  793, 1451, 1182,  174,  490,\n",
      "        718,  433,  773,  603,  874,  367,  199,  481,  647, 1384,  902,\n",
      "        819,  862, 1457,  977,  942, 1402, 1421, 1361,  917,  200,  150,\n",
      "        179,  696,  116,  363,  107, 1465,  458, 1212, 1103,  966, 1010,\n",
      "        326, 1098,  969, 1167,  694, 1320,  536,  373,  599,  251,  131,\n",
      "        237, 1429,  648,  735,  531,  429,  968,  879,  640,  412,  848,\n",
      "        360, 1138,  325, 1322,  299, 1030,  634,  524,  256, 1060,  935,\n",
      "        495,  282,  206,  943,  523,  507,  601,  855, 1291, 1405, 1369,\n",
      "        999, 1202,  285,  404,  736, 1498, 1200, 1439,  499,  205,  683,\n",
      "       1462,  949,  652,  332, 1475,  337,  971, 1174,  667,  560,  172,\n",
      "        383, 1255,  359,  401,  377,  592, 1445, 1221,  866,  981,  447,\n",
      "       1326,  748,  990,  405,  115,  790,  830, 1193, 1423,  467,  271,\n",
      "        410, 1083,  516,  224,  136, 1029,  333, 1440,  674, 1342,  898,\n",
      "        824,  492,  598,  740,  888, 1288,  104, 1108,  479, 1351,  474,\n",
      "        437,  884, 1370,  264, 1059,  563,  457, 1313,  241, 1015,  336,\n",
      "       1387,  170,  208,  671,  711,  737, 1470,  365,  763,  567,  486,\n",
      "        772,  301,  311,  584,  880,  392,  148,  708, 1259,  786,  370,\n",
      "        678,  146,  581,  918, 1238,  585,  741,  552,  369,  717,  543,\n",
      "        964,  792,  611,  176,  897,  600, 1054,  428,  181,  211, 1079,\n",
      "        590,  305,  953,  478, 1375,  244,  511, 1294,  196,  734, 1239,\n",
      "       1253, 1128, 1336,  234,  766,  261, 1194,  431,  572, 1422, 1297,\n",
      "        574,  355,  207,  706,  280,  726,  414,  352, 1224,  459, 1254,\n",
      "       1131,  835, 1172, 1266,  783,  219, 1213, 1096, 1251, 1394,  605,\n",
      "       1064, 1337,  937,  157,  754, 1168,  155, 1444,  189,  911, 1321,\n",
      "       1154,  557,  642,  801,  161, 1382, 1037,  105,  582,  704,  345,\n",
      "       1120, 1378,  468,  613, 1023,  628], dtype=int64)}\n",
      "{'Department': array(['Sales', 'Research & Development', 'Human Resources'], dtype=object)}\n",
      "{'DistanceFromHome': array([ 1,  8,  2,  3, 24, 23, 27, 16, 15, 26, 19, 21,  5, 11,  9,  7,  6,\n",
      "       10,  4, 25, 12, 18, 29, 22, 14, 20, 28, 17, 13], dtype=int64)}\n",
      "{'Education': array([2, 1, 4, 3, 5], dtype=int64)}\n",
      "{'EducationField': array(['Life Sciences', 'Other', 'Medical', 'Marketing',\n",
      "       'Technical Degree', 'Human Resources'], dtype=object)}\n",
      "{'EmployeeCount': array([1], dtype=int64)}\n",
      "{'EmployeeNumber': array([   1,    2,    4, ..., 2064, 2065, 2068], dtype=int64)}\n",
      "{'EnvironmentSatisfaction': array([2, 3, 4, 1], dtype=int64)}\n",
      "{'Gender': array(['Female', 'Male'], dtype=object)}\n",
      "{'HourlyRate': array([ 94,  61,  92,  56,  40,  79,  81,  67,  44,  84,  49,  31,  93,\n",
      "        50,  51,  80,  96,  78,  45,  82,  53,  83,  58,  72,  48,  42,\n",
      "        41,  86,  97,  75,  33,  37,  73,  98,  36,  47,  71,  30,  43,\n",
      "        99,  59,  95,  57,  76,  87,  66,  55,  32,  52,  70,  62,  64,\n",
      "        63,  60, 100,  46,  39,  77,  35,  91,  54,  34,  90,  65,  88,\n",
      "        85,  89,  68,  69,  74,  38], dtype=int64)}\n",
      "{'JobInvolvement': array([3, 2, 4, 1], dtype=int64)}\n",
      "{'JobLevel': array([2, 1, 3, 4, 5], dtype=int64)}\n",
      "{'JobRole': array(['Sales Executive', 'Research Scientist', 'Laboratory Technician',\n",
      "       'Manufacturing Director', 'Healthcare Representative', 'Manager',\n",
      "       'Sales Representative', 'Research Director', 'Human Resources'],\n",
      "      dtype=object)}\n",
      "{'JobSatisfaction': array([4, 2, 3, 1], dtype=int64)}\n",
      "{'MaritalStatus': array(['Single', 'Married', 'Divorced'], dtype=object)}\n",
      "{'MonthlyIncome': array([5993, 5130, 2090, ..., 9991, 5390, 4404], dtype=int64)}\n",
      "{'MonthlyRate': array([19479, 24907,  2396, ...,  5174, 13243, 10228], dtype=int64)}\n",
      "{'NumCompaniesWorked': array([8, 1, 6, 9, 0, 4, 5, 2, 7, 3], dtype=int64)}\n",
      "{'Over18': array(['Y'], dtype=object)}\n",
      "{'OverTime': array(['Yes', 'No'], dtype=object)}\n",
      "{'PercentSalaryHike': array([11, 23, 15, 12, 13, 20, 22, 21, 17, 14, 16, 18, 19, 24, 25],\n",
      "      dtype=int64)}\n",
      "{'PerformanceRating': array([3, 4], dtype=int64)}\n",
      "{'RelationshipSatisfaction': array([1, 4, 2, 3], dtype=int64)}\n",
      "{'StandardHours': array([80], dtype=int64)}\n",
      "{'StockOptionLevel': array([0, 1, 3, 2], dtype=int64)}\n",
      "{'TotalWorkingYears': array([ 8, 10,  7,  6, 12,  1, 17,  5,  3, 31, 13,  0, 26, 24, 22,  9, 19,\n",
      "        2, 23, 14, 15,  4, 29, 28, 21, 25, 20, 11, 16, 37, 38, 30, 40, 18,\n",
      "       36, 34, 32, 33, 35, 27], dtype=int64)}\n",
      "{'TrainingTimesLastYear': array([0, 3, 2, 5, 1, 4, 6], dtype=int64)}\n",
      "{'WorkLifeBalance': array([1, 3, 2, 4], dtype=int64)}\n",
      "{'YearsAtCompany': array([ 6, 10,  0,  8,  2,  7,  1,  9,  5,  4, 25,  3, 12, 14, 22, 15, 27,\n",
      "       21, 17, 11, 13, 37, 16, 20, 40, 24, 33, 19, 36, 18, 29, 31, 32, 34,\n",
      "       26, 30, 23], dtype=int64)}\n",
      "{'YearsInCurrentRole': array([ 4,  7,  0,  2,  5,  9,  8,  3,  6, 13,  1, 15, 14, 16, 11, 10, 12,\n",
      "       18, 17], dtype=int64)}\n",
      "{'YearsSinceLastPromotion': array([ 0,  1,  3,  2,  7,  4,  8,  6,  5, 15,  9, 13, 12, 10, 11, 14],\n",
      "      dtype=int64)}\n",
      "{'YearsWithCurrManager': array([ 5,  7,  0,  2,  6,  8,  3, 11, 17,  1,  4, 12,  9, 10, 15, 13, 16,\n",
      "       14], dtype=int64)}\n"
     ]
    }
   ],
   "source": [
    "#Checking unique value in Dataset\n",
    "for i in df.columns:\n",
    "    print({i:df[i].unique()})"
   ]
  },
  {
   "cell_type": "markdown",
   "metadata": {},
   "source": [
    "#### verify the missing values present in the data set with the help of isnull().sum() function"
   ]
  },
  {
   "cell_type": "code",
   "execution_count": 5,
   "metadata": {},
   "outputs": [
    {
     "data": {
      "text/plain": [
       "Age                         0\n",
       "Attrition                   0\n",
       "BusinessTravel              0\n",
       "DailyRate                   0\n",
       "Department                  0\n",
       "DistanceFromHome            0\n",
       "Education                   0\n",
       "EducationField              0\n",
       "EmployeeCount               0\n",
       "EmployeeNumber              0\n",
       "EnvironmentSatisfaction     0\n",
       "Gender                      0\n",
       "HourlyRate                  0\n",
       "JobInvolvement              0\n",
       "JobLevel                    0\n",
       "JobRole                     0\n",
       "JobSatisfaction             0\n",
       "MaritalStatus               0\n",
       "MonthlyIncome               0\n",
       "MonthlyRate                 0\n",
       "NumCompaniesWorked          0\n",
       "Over18                      0\n",
       "OverTime                    0\n",
       "PercentSalaryHike           0\n",
       "PerformanceRating           0\n",
       "RelationshipSatisfaction    0\n",
       "StandardHours               0\n",
       "StockOptionLevel            0\n",
       "TotalWorkingYears           0\n",
       "TrainingTimesLastYear       0\n",
       "WorkLifeBalance             0\n",
       "YearsAtCompany              0\n",
       "YearsInCurrentRole          0\n",
       "YearsSinceLastPromotion     0\n",
       "YearsWithCurrManager        0\n",
       "dtype: int64"
      ]
     },
     "execution_count": 5,
     "metadata": {},
     "output_type": "execute_result"
    }
   ],
   "source": [
    "pd.set_option(\"display.max_rows\",None)\n",
    "df.isnull().sum()"
   ]
  },
  {
   "cell_type": "markdown",
   "metadata": {},
   "source": [
    "#### The Fields having common output values or Standard Deviation is zero such columns does not add value. Hence they can be remove using function - drop ( [“ ”] ,axis =1 )"
   ]
  },
  {
   "cell_type": "code",
   "execution_count": 6,
   "metadata": {},
   "outputs": [
    {
     "data": {
      "text/plain": [
       "Y    1470\n",
       "Name: Over18, dtype: int64"
      ]
     },
     "execution_count": 6,
     "metadata": {},
     "output_type": "execute_result"
    }
   ],
   "source": [
    "df['Over18'].value_counts()"
   ]
  },
  {
   "cell_type": "markdown",
   "metadata": {},
   "source": [
    "### Distribution of employee attrition in company"
   ]
  },
  {
   "cell_type": "code",
   "execution_count": 7,
   "metadata": {},
   "outputs": [
    {
     "data": {
      "image/png": "[encoded data removed]",
      "text/plain": [
       "<Figure size 1080x432 with 1 Axes>"
      ]
     },
     "metadata": {},
     "output_type": "display_data"
    }
   ],
   "source": [
    "labels='Attrition Yes','Attrition NO'\n",
    "df['Attrition'].astype(str).value_counts().plot(kind='pie',\n",
    "                                               figsize=(15,6),\n",
    "                                               autopct='%1.1f%%',\n",
    "                                               startangle=90,\n",
    "                                               shadow=True,\n",
    "                                               labels=None)\n",
    "plt.title('Distribution of Employee Attrition in the Company',y=1.12)\n",
    "plt.axis('equal')\n",
    "# add Legend\n",
    "plt.legend(labels=labels,loc='upper right')\n",
    "#show plot\n",
    "plt.show()"
   ]
  },
  {
   "cell_type": "markdown",
   "metadata": {},
   "source": [
    "Observation:-From 1470 employees, 16% of the them left there job & 84% of the employees continued there job at the company."
   ]
  },
  {
   "cell_type": "markdown",
   "metadata": {},
   "source": [
    "Analysis of Rating Features\n",
    "\n",
    "- JobSatisfaction\n",
    "- Environment Satisfaction\n",
    "- Relationship Satisfaction\n",
    "- Job Involvement\n",
    "- Worklife Balance\n",
    "- Performance Rating"
   ]
  },
  {
   "cell_type": "code",
   "execution_count": 10,
   "metadata": {},
   "outputs": [
    {
     "data": {
      "image/png": "[encoded data removed]",
      "text/plain": [
       "<Figure size 1080x432 with 4 Axes>"
      ]
     },
     "metadata": {},
     "output_type": "display_data"
    }
   ],
   "source": [
    "fig = plt.figure() \n",
    "\n",
    "ax1 = fig.add_subplot(221) \n",
    "ax2 = fig.add_subplot(222)  \n",
    "ax3 = fig.add_subplot(223) \n",
    "ax4 = fig.add_subplot(224)  \n",
    "\n",
    "labels = 'Low','Medium','High','Very High'\n",
    "\n",
    "df['JobSatisfaction'].astype(str).value_counts().plot(kind='pie',\n",
    "                            figsize=(15, 6),\n",
    "                            autopct='%1.1f%%', \n",
    "                            startangle=90,    \n",
    "                            shadow=True,       \n",
    "                            labels=None,ax=ax1) # add to subplot 2\n",
    "ax1.set_title ('Rating of Job Satisfaction by Employees')\n",
    "fig.legend(labels=labels,loc='center')\n",
    "\n",
    "df['EnvironmentSatisfaction'].astype(str).value_counts().plot(kind='pie',\n",
    "                            figsize=(15, 6),\n",
    "                            autopct='%1.1f%%', \n",
    "                            startangle=90,    \n",
    "                            shadow=True,       \n",
    "                            labels=None,ax=ax2) \n",
    "ax2.set_title('Rating of Environmental Satisfaction by Employees')\n",
    "\n",
    "df['RelationshipSatisfaction'].astype(str).value_counts().plot(kind='pie',\n",
    "                            figsize=(15, 6),\n",
    "                            autopct='%1.1f%%', \n",
    "                            startangle=90,    \n",
    "                            shadow=True,       \n",
    "                            labels=None,ax=ax3)\n",
    "ax3.set_title('Rating of Relationship Satisfaction by Employees')\n",
    "\n",
    "df['JobInvolvement'].astype(str).value_counts().plot(kind='pie',\n",
    "                            figsize=(15, 6),\n",
    "                            autopct='%1.1f%%', \n",
    "                            startangle=90,    \n",
    "                            shadow=True,       \n",
    "                            labels=None,ax=ax4) \n",
    "ax4.set_title('Rating of Job Involvement by Employees')\n",
    "\n",
    "plt.show()"
   ]
  },
  {
   "cell_type": "code",
   "execution_count": 11,
   "metadata": {},
   "outputs": [
    {
     "data": {
      "image/png": "[encoded data removed]",
      "text/plain": [
       "<Figure size 1080x432 with 2 Axes>"
      ]
     },
     "metadata": {},
     "output_type": "display_data"
    }
   ],
   "source": [
    "fig2 =plt.figure()\n",
    "\n",
    "ax5=fig2.add_subplot(121)\n",
    "ax6=fig2.add_subplot(122)\n",
    "\n",
    "labels_list1='Bad','Good','Better','Best'\n",
    "labels_list2='low','Good','Excellent','Outstanding'\n",
    "\n",
    "df['WorkLifeBalance'].astype(str).value_counts().plot(kind='pie',\n",
    "                                                     figsize=(15,6),\n",
    "                                                     autopct='%1.1f%%',\n",
    "                                                     startangle=90,\n",
    "                                                     shadow=True,\n",
    "                                                     labels=None,ax=ax5)# add to subplot 2\n",
    "ax5.set_title('Rating of  Work-Life Balance by Employees')\n",
    "ax5.legend(labels_list1,loc='upper right')\n",
    "\n",
    "df['PerformanceRating'].astype(str).value_counts().plot(kind='pie',\n",
    "                                                       figsize=(15,6),\n",
    "                                                       autopct=\"%1.1f%%\",\n",
    "                                                       startangle=90,\n",
    "                                                       shadow=True,\n",
    "                                                       labels=None,ax=ax6)\n",
    "ax6.set_title('Performance Rating of the Employees')\n",
    "ax6.legend(labels=labels_list2,loc='upper right')\n",
    "\n",
    "plt.show()"
   ]
  },
  {
   "cell_type": "markdown",
   "metadata": {},
   "source": [
    "Observation:-\n",
    "- Almost 60% of the Employees have rated their work-life Balanced as Bad\n",
    "- Almost 85% of the Employees have now performing rating"
   ]
  },
  {
   "cell_type": "markdown",
   "metadata": {},
   "source": [
    "#### Attrition field has values Yes/No however for Machine learning algorithms we need numeric values.Hence translating Yes/No to binary 1/0 using lambda function.It can take any number of arguments ,but can only have one expression."
   ]
  },
  {
   "cell_type": "code",
   "execution_count": 8,
   "metadata": {},
   "outputs": [],
   "source": [
    "#A lambda function can take any number of arguments, but can only have one expression.\n",
    "df['Attrition']=df['Attrition'].apply(lambda x : 1 if x=='Yes' else 0)"
   ]
  },
  {
   "cell_type": "markdown",
   "metadata": {},
   "source": [
    "#### For further processing of the data we need to convert categorical values into Numerical values , using pd.get_dummies() function. It can be seen from the difference in the output of data.head() before and after the conversion that now all the fields have numerical values.\n"
   ]
  },
  {
   "cell_type": "code",
   "execution_count": 9,
   "metadata": {},
   "outputs": [],
   "source": [
    "#This function is used to convert Categorical values to Numerical values\n",
    "df=pd.get_dummies(df)"
   ]
  },
  {
   "cell_type": "code",
   "execution_count": 10,
   "metadata": {},
   "outputs": [
    {
     "data": {
      "text/html": [
       "<div>\n",
       "<style scoped>\n",
       "    .dataframe tbody tr th:only-of-type {\n",
       "        vertical-align: middle;\n",
       "    }\n",
       "\n",
       "    .dataframe tbody tr th {\n",
       "        vertical-align: top;\n",
       "    }\n",
       "\n",
       "    .dataframe thead th {\n",
       "        text-align: right;\n",
       "    }\n",
       "</style>\n",
       "<table border=\"1\" class=\"dataframe\">\n",
       "  <thead>\n",
       "    <tr style=\"text-align: right;\">\n",
       "      <th></th>\n",
       "      <th>Age</th>\n",
       "      <th>Attrition</th>\n",
       "      <th>DailyRate</th>\n",
       "      <th>DistanceFromHome</th>\n",
       "      <th>Education</th>\n",
       "      <th>EmployeeNumber</th>\n",
       "      <th>EnvironmentSatisfaction</th>\n",
       "      <th>HourlyRate</th>\n",
       "      <th>JobInvolvement</th>\n",
       "      <th>JobLevel</th>\n",
       "      <th>...</th>\n",
       "      <th>JobRole_Manufacturing Director</th>\n",
       "      <th>JobRole_Research Director</th>\n",
       "      <th>JobRole_Research Scientist</th>\n",
       "      <th>JobRole_Sales Executive</th>\n",
       "      <th>JobRole_Sales Representative</th>\n",
       "      <th>MaritalStatus_Divorced</th>\n",
       "      <th>MaritalStatus_Married</th>\n",
       "      <th>MaritalStatus_Single</th>\n",
       "      <th>OverTime_No</th>\n",
       "      <th>OverTime_Yes</th>\n",
       "    </tr>\n",
       "  </thead>\n",
       "  <tbody>\n",
       "    <tr>\n",
       "      <th>0</th>\n",
       "      <td>41</td>\n",
       "      <td>1</td>\n",
       "      <td>1102</td>\n",
       "      <td>1</td>\n",
       "      <td>2</td>\n",
       "      <td>1</td>\n",
       "      <td>2</td>\n",
       "      <td>94</td>\n",
       "      <td>3</td>\n",
       "      <td>2</td>\n",
       "      <td>...</td>\n",
       "      <td>0</td>\n",
       "      <td>0</td>\n",
       "      <td>0</td>\n",
       "      <td>1</td>\n",
       "      <td>0</td>\n",
       "      <td>0</td>\n",
       "      <td>0</td>\n",
       "      <td>1</td>\n",
       "      <td>0</td>\n",
       "      <td>1</td>\n",
       "    </tr>\n",
       "    <tr>\n",
       "      <th>1</th>\n",
       "      <td>49</td>\n",
       "      <td>0</td>\n",
       "      <td>279</td>\n",
       "      <td>8</td>\n",
       "      <td>1</td>\n",
       "      <td>2</td>\n",
       "      <td>3</td>\n",
       "      <td>61</td>\n",
       "      <td>2</td>\n",
       "      <td>2</td>\n",
       "      <td>...</td>\n",
       "      <td>0</td>\n",
       "      <td>0</td>\n",
       "      <td>1</td>\n",
       "      <td>0</td>\n",
       "      <td>0</td>\n",
       "      <td>0</td>\n",
       "      <td>1</td>\n",
       "      <td>0</td>\n",
       "      <td>1</td>\n",
       "      <td>0</td>\n",
       "    </tr>\n",
       "    <tr>\n",
       "      <th>2</th>\n",
       "      <td>37</td>\n",
       "      <td>1</td>\n",
       "      <td>1373</td>\n",
       "      <td>2</td>\n",
       "      <td>2</td>\n",
       "      <td>4</td>\n",
       "      <td>4</td>\n",
       "      <td>92</td>\n",
       "      <td>2</td>\n",
       "      <td>1</td>\n",
       "      <td>...</td>\n",
       "      <td>0</td>\n",
       "      <td>0</td>\n",
       "      <td>0</td>\n",
       "      <td>0</td>\n",
       "      <td>0</td>\n",
       "      <td>0</td>\n",
       "      <td>0</td>\n",
       "      <td>1</td>\n",
       "      <td>0</td>\n",
       "      <td>1</td>\n",
       "    </tr>\n",
       "    <tr>\n",
       "      <th>3</th>\n",
       "      <td>33</td>\n",
       "      <td>0</td>\n",
       "      <td>1392</td>\n",
       "      <td>3</td>\n",
       "      <td>4</td>\n",
       "      <td>5</td>\n",
       "      <td>4</td>\n",
       "      <td>56</td>\n",
       "      <td>3</td>\n",
       "      <td>1</td>\n",
       "      <td>...</td>\n",
       "      <td>0</td>\n",
       "      <td>0</td>\n",
       "      <td>1</td>\n",
       "      <td>0</td>\n",
       "      <td>0</td>\n",
       "      <td>0</td>\n",
       "      <td>1</td>\n",
       "      <td>0</td>\n",
       "      <td>0</td>\n",
       "      <td>1</td>\n",
       "    </tr>\n",
       "    <tr>\n",
       "      <th>4</th>\n",
       "      <td>27</td>\n",
       "      <td>0</td>\n",
       "      <td>591</td>\n",
       "      <td>2</td>\n",
       "      <td>1</td>\n",
       "      <td>7</td>\n",
       "      <td>1</td>\n",
       "      <td>40</td>\n",
       "      <td>3</td>\n",
       "      <td>1</td>\n",
       "      <td>...</td>\n",
       "      <td>0</td>\n",
       "      <td>0</td>\n",
       "      <td>0</td>\n",
       "      <td>0</td>\n",
       "      <td>0</td>\n",
       "      <td>0</td>\n",
       "      <td>1</td>\n",
       "      <td>0</td>\n",
       "      <td>1</td>\n",
       "      <td>0</td>\n",
       "    </tr>\n",
       "  </tbody>\n",
       "</table>\n",
       "<p>5 rows × 54 columns</p>\n",
       "</div>"
      ],
      "text/plain": [
       "   Age  Attrition  DailyRate  DistanceFromHome  Education  EmployeeNumber  \\\n",
       "0   41          1       1102                 1          2               1   \n",
       "1   49          0        279                 8          1               2   \n",
       "2   37          1       1373                 2          2               4   \n",
       "3   33          0       1392                 3          4               5   \n",
       "4   27          0        591                 2          1               7   \n",
       "\n",
       "   EnvironmentSatisfaction  HourlyRate  JobInvolvement  JobLevel  ...  \\\n",
       "0                        2          94               3         2  ...   \n",
       "1                        3          61               2         2  ...   \n",
       "2                        4          92               2         1  ...   \n",
       "3                        4          56               3         1  ...   \n",
       "4                        1          40               3         1  ...   \n",
       "\n",
       "   JobRole_Manufacturing Director  JobRole_Research Director  \\\n",
       "0                               0                          0   \n",
       "1                               0                          0   \n",
       "2                               0                          0   \n",
       "3                               0                          0   \n",
       "4                               0                          0   \n",
       "\n",
       "   JobRole_Research Scientist  JobRole_Sales Executive  \\\n",
       "0                           0                        1   \n",
       "1                           1                        0   \n",
       "2                           0                        0   \n",
       "3                           1                        0   \n",
       "4                           0                        0   \n",
       "\n",
       "   JobRole_Sales Representative  MaritalStatus_Divorced  \\\n",
       "0                             0                       0   \n",
       "1                             0                       0   \n",
       "2                             0                       0   \n",
       "3                             0                       0   \n",
       "4                             0                       0   \n",
       "\n",
       "   MaritalStatus_Married  MaritalStatus_Single  OverTime_No  OverTime_Yes  \n",
       "0                      0                     1            0             1  \n",
       "1                      1                     0            1             0  \n",
       "2                      0                     1            0             1  \n",
       "3                      1                     0            0             1  \n",
       "4                      1                     0            1             0  \n",
       "\n",
       "[5 rows x 54 columns]"
      ]
     },
     "execution_count": 10,
     "metadata": {},
     "output_type": "execute_result"
    }
   ],
   "source": [
    "df.head()"
   ]
  },
  {
   "cell_type": "code",
   "execution_count": 11,
   "metadata": {},
   "outputs": [],
   "source": [
    "#Separating Feature and Target matrices\n",
    "X = df.drop(['Attrition'], axis=1)\n",
    "Y=df['Attrition']"
   ]
  },
  {
   "cell_type": "markdown",
   "metadata": {},
   "source": [
    "#### Feature scaling is a method used to standardize the range of independent variables or features of data.Since the range of values of raw data varies widely, in some machine learning algorithms, objective functions will not work properly without normalization. "
   ]
  },
  {
   "cell_type": "code",
   "execution_count": 12,
   "metadata": {},
   "outputs": [],
   "source": [
    "from sklearn.preprocessing import StandardScaler\n",
    "scale = StandardScaler()\n",
    "X = scale.fit_transform(X)"
   ]
  },
  {
   "cell_type": "code",
   "execution_count": 13,
   "metadata": {},
   "outputs": [],
   "source": [
    "# Split the data into Training set and Testing set\n",
    "from sklearn.model_selection import train_test_split\n",
    "X_train, X_test, Y_train, Y_test = train_test_split(X,Y,test_size =0.2,random_state=42)"
   ]
  },
  {
   "cell_type": "code",
   "execution_count": 36,
   "metadata": {},
   "outputs": [],
   "source": [
    "#Function to Train and Test Machine Learning Model\n",
    "\n",
    "def train_test_ml_model(X_train,Y_train,X_test,Model):\n",
    "    model.fit(X_train,Y_train) #Train the Model\n",
    "    Y_pred = model.predict(X_test) #Use the Model for prediction\n",
    "    from sklearn.metrics import classification_report\n",
    "    print(classification_report(Y_test,Y_pred)) \n",
    "\n",
    "    # Test the Model\n",
    "    from sklearn.metrics import confusion_matrix\n",
    "    cm = confusion_matrix(Y_test,Y_pred)\n",
    "    accuracy = round(100*np.trace(cm)/np.sum(cm),1) #\n",
    "\n",
    "    #Plot/Display the results\n",
    "    cm_plot(cm,Model)\n",
    "    print('Accuracy of the Model' ,Model, str(accuracy)+'%')"
   ]
  },
  {
   "cell_type": "code",
   "execution_count": 39,
   "metadata": {},
   "outputs": [],
   "source": [
    "#Function to plot Confusion Matrix\n",
    "def cm_plot(cm,Model):\n",
    "    plt.clf()\n",
    "    plt.imshow(cm, interpolation='nearest', cmap=plt.cm.Wistia)\n",
    "    classNames = ['Negative','Positive']\n",
    "    plt.title('Comparison of Prediction Result for '+ Model)\n",
    "    plt.ylabel('True label')\n",
    "    plt.xlabel('Predicted label')\n",
    "    tick_marks = np.arange(len(classNames))\n",
    "    plt.xticks(tick_marks, classNames, rotation=45)\n",
    "    plt.yticks(tick_marks, classNames)\n",
    "    s = [['TN','FP'], ['FN', 'TP']]\n",
    "    for i in range(2):\n",
    "        for j in range(2):\n",
    "            plt.text(j,i, str(s[i][j])+\" = \"+str(cm[i][j]))\n",
    "    plt.show()"
   ]
  },
  {
   "cell_type": "code",
   "execution_count": 40,
   "metadata": {},
   "outputs": [
    {
     "name": "stdout",
     "output_type": "stream",
     "text": [
      "              precision    recall  f1-score   support\n",
      "\n",
      "           0       0.92      0.95      0.93       255\n",
      "           1       0.58      0.46      0.51        39\n",
      "\n",
      "    accuracy                           0.88       294\n",
      "   macro avg       0.75      0.71      0.72       294\n",
      "weighted avg       0.88      0.88      0.88       294\n",
      "\n"
     ]
    },
    {
     "data": {
      "image/png": "[encoded data removed]",
      "text/plain": [
       "<Figure size 432x288 with 1 Axes>"
      ]
     },
     "metadata": {
      "needs_background": "light"
     },
     "output_type": "display_data"
    },
    {
     "name": "stdout",
     "output_type": "stream",
     "text": [
      "Accuracy of the Model LogisticRegression 88.4%\n"
     ]
    }
   ],
   "source": [
    "                # LOGOSTIC REGRESSION #\n",
    "    \n",
    "from sklearn.linear_model import LogisticRegression \n",
    "Model = \"LogisticRegression\"\n",
    "model=LogisticRegression()\n",
    "\n",
    "train_test_ml_model(X_train,Y_train,X_test,Model)"
   ]
  },
  {
   "cell_type": "markdown",
   "metadata": {},
   "source": [
    "#### As checked in LogisticRegression Model, type 2 error is high. To reduce the same applied Oversampling Technique.\n"
   ]
  },
  {
   "cell_type": "code",
   "execution_count": 41,
   "metadata": {},
   "outputs": [],
   "source": [
    "def resamplingDataPrep(X_train, Y_train, target_var): \n",
    "    # concatenate our training data back together\n",
    "    resampling = X_train.copy()\n",
    "    resampling[target_var] = Y_train.values\n",
    "    \n",
    "    # separate minority and majority classes\n",
    "    majority_class = resampling[resampling[target_var]==0]\n",
    "    minority_class = resampling[resampling[target_var]==1]\n",
    "    \n",
    "    # Get a class count to understand the class imbalance.\n",
    "    print('majority_class: '+ str(len(majority_class)))\n",
    "    print('minority_class: '+ str(len(minority_class)))\n",
    "    return majority_class, minority_class"
   ]
  },
  {
   "cell_type": "code",
   "execution_count": 42,
   "metadata": {},
   "outputs": [],
   "source": [
    "def upsample_SMOTE(X_train, Y_train, ratio=1.0):\n",
    "    \n",
    "    \"\"\"Upsamples minority class using SMOTE.\n",
    "    Ratio argument is the percentage of the upsampled minority class in relation\n",
    "    to the majority class. Default is 1.0\n",
    "    \"\"\"\n",
    "    sm = SMOTE(random_state=40, sampling_strategy=ratio)\n",
    "    X_train_sm, Y_train_sm = sm.fit_resample(X_train, Y_train)\n",
    "    #print(len(X_train_sm), len(Y_train_sm))\n",
    "    #return X_train_sm, Y_train_sm"
   ]
  },
  {
   "cell_type": "code",
   "execution_count": 43,
   "metadata": {},
   "outputs": [
    {
     "name": "stdout",
     "output_type": "stream",
     "text": [
      "              precision    recall  f1-score   support\n",
      "\n",
      "           0       0.92      0.95      0.93       255\n",
      "           1       0.58      0.46      0.51        39\n",
      "\n",
      "    accuracy                           0.88       294\n",
      "   macro avg       0.75      0.71      0.72       294\n",
      "weighted avg       0.88      0.88      0.88       294\n",
      "\n"
     ]
    },
    {
     "data": {
      "image/png": "[encoded data removed]",
      "text/plain": [
       "<Figure size 432x288 with 1 Axes>"
      ]
     },
     "metadata": {
      "needs_background": "light"
     },
     "output_type": "display_data"
    },
    {
     "name": "stdout",
     "output_type": "stream",
     "text": [
      "Accuracy of the Model LogisticRegression 88.4%\n"
     ]
    }
   ],
   "source": [
    "                # LOGOSTIC REGRESSION #\n",
    "    \n",
    "from sklearn.linear_model import LogisticRegression \n",
    "Model = \"LogisticRegression\"\n",
    "model=LogisticRegression()\n",
    "\n",
    "train_test_ml_model(X_train,Y_train,X_test,Model)"
   ]
  },
  {
   "cell_type": "code",
   "execution_count": 44,
   "metadata": {},
   "outputs": [
    {
     "name": "stdout",
     "output_type": "stream",
     "text": [
      "              precision    recall  f1-score   support\n",
      "\n",
      "           0       0.90      0.99      0.94       255\n",
      "           1       0.77      0.26      0.38        39\n",
      "\n",
      "    accuracy                           0.89       294\n",
      "   macro avg       0.83      0.62      0.66       294\n",
      "weighted avg       0.88      0.89      0.87       294\n",
      "\n"
     ]
    },
    {
     "data": {
      "image/png": "[encoded data removed]",
      "text/plain": [
       "<Figure size 432x288 with 1 Axes>"
      ]
     },
     "metadata": {
      "needs_background": "light"
     },
     "output_type": "display_data"
    },
    {
     "name": "stdout",
     "output_type": "stream",
     "text": [
      "Accuracy of the Model KNeighborsClassifier 89.1%\n"
     ]
    }
   ],
   "source": [
    "                    # KNN #\n",
    "    \n",
    "from sklearn.neighbors import KNeighborsClassifier \n",
    "Model = \"KNeighborsClassifier\"\n",
    "model=KNeighborsClassifier()\n",
    "\n",
    "train_test_ml_model(X_train,Y_train,X_test,Model)"
   ]
  },
  {
   "cell_type": "code",
   "execution_count": 45,
   "metadata": {},
   "outputs": [
    {
     "name": "stdout",
     "output_type": "stream",
     "text": [
      "              precision    recall  f1-score   support\n",
      "\n",
      "           0       0.91      0.91      0.91       255\n",
      "           1       0.38      0.38      0.38        39\n",
      "\n",
      "    accuracy                           0.84       294\n",
      "   macro avg       0.65      0.65      0.65       294\n",
      "weighted avg       0.84      0.84      0.84       294\n",
      "\n"
     ]
    },
    {
     "data": {
      "image/png": "[encoded data removed]",
      "text/plain": [
       "<Figure size 432x288 with 1 Axes>"
      ]
     },
     "metadata": {
      "needs_background": "light"
     },
     "output_type": "display_data"
    },
    {
     "name": "stdout",
     "output_type": "stream",
     "text": [
      "Accuracy of the Model SGDClassifier 83.7%\n"
     ]
    }
   ],
   "source": [
    "               # SGD #\n",
    "    \n",
    "from sklearn.linear_model import SGDClassifier\n",
    "Model = \"SGDClassifier\"\n",
    "model=SGDClassifier()\n",
    "\n",
    "\n",
    "train_test_ml_model(X_train,Y_train,X_test,Model)"
   ]
  },
  {
   "cell_type": "code",
   "execution_count": 46,
   "metadata": {},
   "outputs": [
    {
     "name": "stdout",
     "output_type": "stream",
     "text": [
      "              precision    recall  f1-score   support\n",
      "\n",
      "           0       0.87      0.86      0.87       255\n",
      "           1       0.17      0.18      0.17        39\n",
      "\n",
      "    accuracy                           0.77       294\n",
      "   macro avg       0.52      0.52      0.52       294\n",
      "weighted avg       0.78      0.77      0.78       294\n",
      "\n"
     ]
    },
    {
     "data": {
      "image/png": "[encoded data removed]",
      "text/plain": [
       "<Figure size 432x288 with 1 Axes>"
      ]
     },
     "metadata": {
      "needs_background": "light"
     },
     "output_type": "display_data"
    },
    {
     "name": "stdout",
     "output_type": "stream",
     "text": [
      "Accuracy of the Model DecisionTreeClassifier 77.2%\n"
     ]
    }
   ],
   "source": [
    "                   # DECISION TREE #\n",
    "\n",
    "from sklearn.tree import DecisionTreeClassifier \n",
    "Model = \"DecisionTreeClassifier\"\n",
    "model=DecisionTreeClassifier()\n",
    "\n",
    "train_test_ml_model(X_train,Y_train,X_test,Model)"
   ]
  },
  {
   "cell_type": "code",
   "execution_count": 47,
   "metadata": {
    "scrolled": true
   },
   "outputs": [
    {
     "name": "stdout",
     "output_type": "stream",
     "text": [
      "              precision    recall  f1-score   support\n",
      "\n",
      "           0       0.88      0.99      0.93       255\n",
      "           1       0.67      0.10      0.18        39\n",
      "\n",
      "    accuracy                           0.87       294\n",
      "   macro avg       0.77      0.55      0.55       294\n",
      "weighted avg       0.85      0.87      0.83       294\n",
      "\n"
     ]
    },
    {
     "data": {
      "image/png": "[encoded data removed]",
      "text/plain": [
       "<Figure size 432x288 with 1 Axes>"
      ]
     },
     "metadata": {
      "needs_background": "light"
     },
     "output_type": "display_data"
    },
    {
     "name": "stdout",
     "output_type": "stream",
     "text": [
      "Accuracy of the Model RandomForestClassifier 87.4%\n"
     ]
    }
   ],
   "source": [
    "                   # RANDOM FOREST #\n",
    "\n",
    "from sklearn.ensemble import RandomForestClassifier\n",
    "Model = \"RandomForestClassifier\"\n",
    "model=RandomForestClassifier()\n",
    "\n",
    "train_test_ml_model(X_train,Y_train,X_test,Model)"
   ]
  },
  {
   "cell_type": "code",
   "execution_count": 48,
   "metadata": {},
   "outputs": [
    {
     "name": "stdout",
     "output_type": "stream",
     "text": [
      "              precision    recall  f1-score   support\n",
      "\n",
      "           0       0.89      1.00      0.94       255\n",
      "           1       0.89      0.21      0.33        39\n",
      "\n",
      "    accuracy                           0.89       294\n",
      "   macro avg       0.89      0.60      0.64       294\n",
      "weighted avg       0.89      0.89      0.86       294\n",
      "\n"
     ]
    },
    {
     "data": {
      "image/png": "[encoded data removed]",
      "text/plain": [
       "<Figure size 432x288 with 1 Axes>"
      ]
     },
     "metadata": {
      "needs_background": "light"
     },
     "output_type": "display_data"
    },
    {
     "name": "stdout",
     "output_type": "stream",
     "text": [
      "Accuracy of the Model SVC 89.1%\n"
     ]
    }
   ],
   "source": [
    "                 # SUPPORT VECTOR MACHINE #\n",
    "from sklearn.svm import SVC \n",
    "Model = \"SVC\"\n",
    "model=SVC() #Create the Model\n",
    "\n",
    "train_test_ml_model(X_train,Y_train,X_test,Model)"
   ]
  },
  {
   "cell_type": "code",
   "execution_count": 49,
   "metadata": {},
   "outputs": [
    {
     "name": "stdout",
     "output_type": "stream",
     "text": [
      "              precision    recall  f1-score   support\n",
      "\n",
      "           0       0.90      0.89      0.90       255\n",
      "           1       0.35      0.38      0.37        39\n",
      "\n",
      "    accuracy                           0.82       294\n",
      "   macro avg       0.63      0.64      0.63       294\n",
      "weighted avg       0.83      0.82      0.83       294\n",
      "\n"
     ]
    },
    {
     "data": {
      "image/png": "[encoded data removed]",
      "text/plain": [
       "<Figure size 432x288 with 1 Axes>"
      ]
     },
     "metadata": {
      "needs_background": "light"
     },
     "output_type": "display_data"
    },
    {
     "name": "stdout",
     "output_type": "stream",
     "text": [
      "Accuracy of the Model ExtraTreeClassifier 82.3%\n"
     ]
    }
   ],
   "source": [
    "               # EXTRA TREE CLASSIFIER #\n",
    "\n",
    "from sklearn.tree import ExtraTreeClassifier\n",
    "Model = \"ExtraTreeClassifier\"\n",
    "model=ExtraTreeClassifier()\n",
    "\n",
    "train_test_ml_model(X_train,Y_train,X_test,Model)"
   ]
  },
  {
   "cell_type": "code",
   "execution_count": 50,
   "metadata": {},
   "outputs": [
    {
     "name": "stdout",
     "output_type": "stream",
     "text": [
      "              precision    recall  f1-score   support\n",
      "\n",
      "           0       0.90      0.95      0.92       255\n",
      "           1       0.46      0.31      0.37        39\n",
      "\n",
      "    accuracy                           0.86       294\n",
      "   macro avg       0.68      0.63      0.65       294\n",
      "weighted avg       0.84      0.86      0.85       294\n",
      "\n"
     ]
    },
    {
     "data": {
      "image/png": "[encoded data removed]",
      "text/plain": [
       "<Figure size 432x288 with 1 Axes>"
      ]
     },
     "metadata": {
      "needs_background": "light"
     },
     "output_type": "display_data"
    },
    {
     "name": "stdout",
     "output_type": "stream",
     "text": [
      "Accuracy of the Model AdaBoostClassifier 86.1%\n"
     ]
    }
   ],
   "source": [
    "          # AdaBOOST CLASSIFIER #\n",
    "\n",
    "from sklearn.ensemble import AdaBoostClassifier\n",
    "Model = \"AdaBoostClassifier\"\n",
    "model=AdaBoostClassifier()\n",
    "\n",
    "train_test_ml_model(X_train,Y_train,X_test,Model)"
   ]
  },
  {
   "cell_type": "code",
   "execution_count": 51,
   "metadata": {},
   "outputs": [
    {
     "name": "stdout",
     "output_type": "stream",
     "text": [
      "              precision    recall  f1-score   support\n",
      "\n",
      "           0       0.89      0.98      0.93       255\n",
      "           1       0.67      0.21      0.31        39\n",
      "\n",
      "    accuracy                           0.88       294\n",
      "   macro avg       0.78      0.59      0.62       294\n",
      "weighted avg       0.86      0.88      0.85       294\n",
      "\n"
     ]
    },
    {
     "data": {
      "image/png": "[encoded data removed]",
      "text/plain": [
       "<Figure size 432x288 with 1 Axes>"
      ]
     },
     "metadata": {
      "needs_background": "light"
     },
     "output_type": "display_data"
    },
    {
     "name": "stdout",
     "output_type": "stream",
     "text": [
      "Accuracy of the Model GradientBoostingClassifier 88.1%\n"
     ]
    }
   ],
   "source": [
    "          # Gradient Boosting Classifier #\n",
    "    \n",
    "from sklearn.ensemble import GradientBoostingClassifier\n",
    "Model = \"GradientBoostingClassifier\"\n",
    "model=GradientBoostingClassifier()\n",
    "\n",
    "train_test_ml_model(X_train,Y_train,X_test,Model)"
   ]
  },
  {
   "attachments": {},
   "cell_type": "markdown",
   "metadata": {},
   "source": [
    "### Conclusion:-\n",
    "\n",
    "-Performed a set of Classification Algorithms to find the best fit model for our Data.\n",
    "\n",
    "-Logistic Regression:89.1%\n",
    "\n",
    "-KNN Model:85.3%\n",
    "\n",
    "-SGD Model:83.2%\n",
    "\n",
    "-Decision Tree:78.9%\n",
    "\n",
    "-Random forest:86.8%\n",
    "\n",
    "-SVM Model:87.3%\n",
    "\n",
    "-XtraTreeClassifier:78.3%\n",
    "\n",
    "-AdaboostClassifier:87.5 %\n",
    "\n",
    "-Gradient Boosting Classifier:87.8%\n",
    "\n",
    "We conclude that Logistic Regression is the best fit model considering its accuracy is better than other predicted Module."
   ]
  },
  {
   "cell_type": "code",
   "execution_count": null,
   "metadata": {},
   "outputs": [],
   "source": []
  }
 ],
 "metadata": {
  "kernelspec": {
   "display_name": "Python 3",
   "language": "python",
   "name": "python3"
  },
  "language_info": {
   "codemirror_mode": {
    "name": "ipython",
    "version": 3
   },
   "file_extension": ".py",
   "mimetype": "text/x-python",
   "name": "python",
   "nbconvert_exporter": "python",
   "pygments_lexer": "ipython3",
   "version": "3.8.3"
  }
 },
 "nbformat": 4,
 "nbformat_minor": 4
}
